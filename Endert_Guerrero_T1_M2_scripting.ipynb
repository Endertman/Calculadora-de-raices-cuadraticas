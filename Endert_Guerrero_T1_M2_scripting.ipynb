{
 "cells": [
  {
   "attachments": {},
   "cell_type": "markdown",
   "metadata": {},
   "source": [
    "# Creación de programa capaz de resolver ecuaciones cuadráticas de segundo grado para hallar X1 y X2.\n",
    "\n",
    "# X1 = ( -b + √b² - 4ac ) / 2a.\n",
    "\n",
    "\n",
    "\n",
    "\n",
    "\n"
   ]
  },
  {
   "attachments": {},
   "cell_type": "markdown",
   "metadata": {},
   "source": [
    "# Descripción de las variables/datos (Ítem 1) \n",
    "\n",
    "- a: coeficiente cuadrático de la ecuación \n",
    "\n",
    "- b: coeficiente lineal de la ecuación \n",
    "\n",
    "- c: término independiente de la ecuación \n",
    "\n",
    "- dato_a: Valor de a alojado en un array para su mejor visualización. \n",
    "\n",
    "- dato_b: Valor de b alojado en un array para su mejor visualización. \n",
    "\n",
    "- dato_c: Valor de c alojado en un array para su mejor visualización. \n",
    "\n",
    "- aux(Discriminante): valor de b² - 4ac utilizado para determinar la existencia de raíces reales \n",
    "\n",
    "- aux_2: valor conseguido después de calcular el valor de la raíz de aux \n",
    "\n",
    "- temp_1: variable resultado de calcular el valor de ( -dato_b + aux2 ) para hallar X1 \n",
    "\n",
    "- temp_2: variable resultado de calcular el valor de ( -dato_b - aux2 ) para hallar X2 \n",
    "\n",
    "- X1: Valor de X1, resultado de calcular (-b) + (√b**2 - 4 * a * c) o lo que es lo mismo (temp_1 / (2 * dato_a)) \n",
    "\n",
    "- X2: Valor de X1, resultado de calcular (-b) - (√b**2 - 4 * a * c) o lo que es lo mismo (temp_2 / (2 * dato_a)) "
   ]
  },
  {
   "attachments": {},
   "cell_type": "markdown",
   "metadata": {},
   "source": [
    "# Tipos de datos.\n",
    "\n",
    "- Tipo de datos: float (para los coeficientes y raíces), int (para el discriminante y valores ingresados por el usuario)."
   ]
  },
  {
   "attachments": {},
   "cell_type": "markdown",
   "metadata": {},
   "source": [
    "# Inicio del Programa.\n",
    "\n",
    "Como primer paso importamos las librerías que usaremos en este caso math y también podemos hacer uso de numpy, por lo que también la importaremos, en este ejemplo observamos que siempre al empezar un proyecto es recomendable como primer paso importar todas librerías a usar. \n"
   ]
  },
  {
   "cell_type": "code",
   "execution_count": 1,
   "metadata": {},
   "outputs": [],
   "source": [
    "import math\n",
    "import numpy as np"
   ]
  },
  {
   "attachments": {},
   "cell_type": "markdown",
   "metadata": {},
   "source": [
    "# Bienvenida al usuario.\n",
    "\n",
    "En este caso daremos una bienvenida al usuario y le indicaremos para que funcione el programa, haciendo uso del siguiente print."
   ]
  },
  {
   "cell_type": "code",
   "execution_count": 2,
   "metadata": {},
   "outputs": [
    {
     "name": "stdout",
     "output_type": "stream",
     "text": [
      "Calculadora de ecuaciones cuadráticas de segundo grado\n"
     ]
    }
   ],
   "source": [
    "print(\"Calculadora de ecuaciones cuadráticas de segundo grado\")"
   ]
  },
  {
   "attachments": {},
   "cell_type": "markdown",
   "metadata": {},
   "source": [
    "# Datos.\n",
    "\n",
    "Crearemos un array donde le pediremos al usuario que \"Ingrese al menos 5 valores enteros (excepto 0) separados por espacios: \", estos 5 valores serán alojados en un array con la función \"split\", esta función separa los valores con espacios en blanco (Puede ser separado con cualquier otro string si se lo especificamos) y luego con la función \".sort\" se ordenara de menor a mayor valor. "
   ]
  },
  {
   "cell_type": "code",
   "execution_count": 3,
   "metadata": {},
   "outputs": [],
   "source": [
    "valores = np.array(input(\"Ingrese al menos 5 valores enteros (excepto 0) separados por espacios: \").split(), dtype=int)\n",
    "valores.sort()\n",
    "a = valores[0]\n",
    "b = valores[4]\n",
    "c = valores[1]"
   ]
  },
  {
   "attachments": {},
   "cell_type": "markdown",
   "metadata": {},
   "source": [
    "Si el coeficiente A de la ecuación cuadrática es igual a 0, la ecuación deja de ser una ecuación cuadrática porque el término cuadrático desaparece. En ese caso, la ecuación se convierte en una ecuación lineal por lo que no podemos permitir que esto sea así. \n",
    "\n",
    "En caso de que el usuario ingrese 0 como parte de los valores, le pediremos al usuario que reinicie el programa e ingrese los valores sin colocar 0 entre estos, de no ser así se mostrara en pantalla \"El número de menor valor no puede ser 0, por favor inicie de nuevo el programa y no ingrese el valor 0 entre los valores\" y por consecuencia el programa se cancelara y no avanzara. "
   ]
  },
  {
   "cell_type": "code",
   "execution_count": 4,
   "metadata": {},
   "outputs": [
    {
     "name": "stdout",
     "output_type": "stream",
     "text": [
      "El numero de menor valor no puede ser 0, por favor inicie de nuevo el programa y no ingrese el valor 0 entre los valores\n"
     ]
    }
   ],
   "source": [
    "if a == 0:\n",
    "    print(\"El numero de menor valor no puede ser 0, por favor inicie de nuevo el programa y no ingrese el valor 0 entre los valores\")\n",
    "    exit()\n",
    "else:\n",
    "    dato_a = (a)\n",
    "    dato_b = (b)\n",
    "    dato_c = (c)"
   ]
  },
  {
   "attachments": {},
   "cell_type": "markdown",
   "metadata": {},
   "source": [
    "Por ultimo y como paso extra mostraremos en pantalla los valores elegidos por el usuario luego de ser ordenados por la función sort."
   ]
  },
  {
   "cell_type": "code",
   "execution_count": 5,
   "metadata": {},
   "outputs": [
    {
     "name": "stdout",
     "output_type": "stream",
     "text": [
      "['El valor de A es' '0' 'El valor de B es' '5' 'El valor de C es' '0']\n"
     ]
    }
   ],
   "source": [
    "datos = np.array([\"El valor de A es\", dato_a, \"El valor de B es\", dato_b, \"El valor de C es\", dato_c])\n",
    "print(datos)"
   ]
  },
  {
   "attachments": {},
   "cell_type": "markdown",
   "metadata": {},
   "source": [
    "# Variable AUX.\n",
    "\n",
    "A partir de los datos seleccionados realizaremos la operación pertinente, en este caso calcularemos el componente b**2 - 4ac, este lo alojaremos en la variable \"aux\", por ahora no será necesario mostrar este resultado en pantalla, pero si así lo que quisiéramos no tendríamos problemas. "
   ]
  },
  {
   "cell_type": "code",
   "execution_count": 6,
   "metadata": {},
   "outputs": [
    {
     "name": "stdout",
     "output_type": "stream",
     "text": [
      "el valor de aux es: 25\n"
     ]
    }
   ],
   "source": [
    "aux = ((dato_b**2) - (4*dato_a*dato_c))\n",
    "print(\"el valor de aux es: \" + str(aux))"
   ]
  },
  {
   "cell_type": "markdown",
   "metadata": {},
   "source": [
    "# AUX menor que 0\n",
    "\n",
    "Deberemos verificar que \"aux\" no sea menor que 0 porque si el discriminante (aux) es menor que 0 indicara que no hay raíces reales para la ecuación. En lugar de ser una ecuación cuadrática, se convierte en una ecuación lineal. En este caso se imprime un mensaje indicando que la ecuación no tiene raíces reales y se cerrara el programa."
   ]
  },
  {
   "cell_type": "code",
   "execution_count": 7,
   "metadata": {},
   "outputs": [],
   "source": [
    "if aux < 0: \n",
    "    print(\"La ecuación no tiene raíces reales.\")\n",
    "    exit()"
   ]
  },
  {
   "attachments": {},
   "cell_type": "markdown",
   "metadata": {},
   "source": [
    "# Verificadores de aux\n",
    "\n",
    "En caso de que el discriminante sea igual a 0 solo se calculara el valor de X1 a partir de la siguiente formula (-(dato_b) / (2* (dato_a))) usando la función de if, donde si aux es igual a 0 se aplicara esto. \n",
    "\n",
    "De lo contrario, se procede a calcular las raíces de la ecuación utilizando la fórmula adecuada para \"x1\" y \"x2\" haciendo uso de \"else\". \n",
    "\n",
    "En ambos casos mostraremos el resultado en pantalla según corresponda. "
   ]
  },
  {
   "cell_type": "code",
   "execution_count": 1,
   "metadata": {},
   "outputs": [
    {
     "ename": "NameError",
     "evalue": "name 'aux' is not defined",
     "output_type": "error",
     "traceback": [
      "\u001b[1;31m---------------------------------------------------------------------------\u001b[0m",
      "\u001b[1;31mNameError\u001b[0m                                 Traceback (most recent call last)",
      "Cell \u001b[1;32mIn[1], line 1\u001b[0m\n\u001b[1;32m----> 1\u001b[0m \u001b[39mif\u001b[39;00m aux \u001b[39m==\u001b[39m \u001b[39m0\u001b[39m:\n\u001b[0;32m      2\u001b[0m      \u001b[39mprint\u001b[39m(\u001b[39m\"\u001b[39m\u001b[39mLa ecuación tiene una raíz real:\u001b[39m\u001b[39m\"\u001b[39m, x1)\n\u001b[0;32m      3\u001b[0m \u001b[39melse\u001b[39;00m:\n",
      "\u001b[1;31mNameError\u001b[0m: name 'aux' is not defined"
     ]
    }
   ],
   "source": [
    "if aux == 0:\n",
    " print(\"La ecuación tiene una raíz real, x1=\", x1)\n",
    "else:\n",
    " print(\"Las raíces de la ecuación son x1=\", x1, \"y x2=\", x2)"
   ]
  },
  {
   "attachments": {},
   "cell_type": "markdown",
   "metadata": {},
   "source": [
    "# Raíz de AUX\n",
    "\n",
    "Este valor lo alojaremos en la variable aux_2 y lo usaremos al momento de realizar el cálculo final. \n",
    "\n",
    "Para realizar este cálculo tenemos varias opciones, pero las más recomendada será la siguiente, igualmente adjuntaremos las otras opciones en caso de querer visualizar otras formas de resolver el problema. \n",
    "\n",
    "Calcularemos la raíz cuadrada del valor de \"aux\" luego de haberlo calculado para esto tenemos varias alternativas, pero ya que hemos importado las librerías haremos uso de estas, en el primer caso usaremos la librería Math y el comando \"sqrt\". "
   ]
  },
  {
   "cell_type": "code",
   "execution_count": null,
   "metadata": {},
   "outputs": [
    {
     "ename": "ValueError",
     "evalue": "math domain error",
     "output_type": "error",
     "traceback": [
      "\u001b[1;31m---------------------------------------------------------------------------\u001b[0m",
      "\u001b[1;31mValueError\u001b[0m                                Traceback (most recent call last)",
      "Cell \u001b[1;32mIn[51], line 1\u001b[0m\n\u001b[1;32m----> 1\u001b[0m aux_2 \u001b[39m=\u001b[39m (\u001b[39mfloat\u001b[39m(math\u001b[39m.\u001b[39;49msqrt(aux)))\n\u001b[0;32m      2\u001b[0m \u001b[39mprint\u001b[39m(\u001b[39m\"\u001b[39m\u001b[39mel valor de aux_2 es: \u001b[39m\u001b[39m\"\u001b[39m \u001b[39m+\u001b[39m \u001b[39mstr\u001b[39m(aux_2))\n",
      "\u001b[1;31mValueError\u001b[0m: math domain error"
     ]
    }
   ],
   "source": [
    "aux_2 = (float(math.sqrt(aux)))\n",
    "print(\"el valor de aux_2 es: \" + str(aux_2))"
   ]
  },
  {
   "attachments": {},
   "cell_type": "markdown",
   "metadata": {},
   "source": [
    "Para la opción 2 usaremos NumPy haciendo uso del mismo comando de la librería Math (sqrt)."
   ]
  },
  {
   "cell_type": "code",
   "execution_count": null,
   "metadata": {},
   "outputs": [
    {
     "name": "stdout",
     "output_type": "stream",
     "text": [
      "2.0\n"
     ]
    }
   ],
   "source": [
    "opcion_2 = np.sqrt(aux)\n",
    "print(aux_2)"
   ]
  },
  {
   "attachments": {},
   "cell_type": "markdown",
   "metadata": {},
   "source": [
    "Y como opción extra tenemos las funciones predeterminadas de Python, estas pueden ser elevando \"aux\" a la potencia 0.5, o también podemos usar el comando \"pow\" haciendo algo similar al código anterior, elevaríamos \"aux\" a la potencia de 1/2. "
   ]
  },
  {
   "cell_type": "code",
   "execution_count": null,
   "metadata": {},
   "outputs": [
    {
     "name": "stdout",
     "output_type": "stream",
     "text": [
      "2.0\n",
      "2.0\n"
     ]
    }
   ],
   "source": [
    "opcion_3 = (aux ** 0.5)\n",
    "print(opcion_3)\n",
    "opcion_4 = pow(aux,1/2)\n",
    "print(opcion_4)"
   ]
  },
  {
   "attachments": {},
   "cell_type": "markdown",
   "metadata": {},
   "source": [
    "# Valor de temp_1\n",
    "\n",
    "Ahora calcularemos el valor de una nueva variable, está la llamaremos \"temp_1\", en ella almacenaremos el resultado de la siguiente operación ( - (dato_b) + (aux_2)). \n",
    "\n",
    "Esta variable también la usaremos más adelante al momento de hacer el cálculo completo. "
   ]
  },
  {
   "cell_type": "code",
   "execution_count": null,
   "metadata": {},
   "outputs": [
    {
     "name": "stdout",
     "output_type": "stream",
     "text": [
      "el valor de temp_1 es: -2.0\n"
     ]
    }
   ],
   "source": [
    "temp_1 = (-(dato_b)) + (aux_2)\n",
    "print(\"el valor de temp_1 es: \" + str(temp_1))"
   ]
  },
  {
   "attachments": {},
   "cell_type": "markdown",
   "metadata": {},
   "source": [
    "# Valor de temp_2\n",
    "\n",
    "Ahora calcularemos el valor de \"temp_2\" que usaremos para encontrar x2 usando la siguiente operación ( - (dato_b) - (aux_2)). \n",
    "\n",
    "Esta variable también la usaremos más adelante al agrupar el código para hacer el cálculo completo. "
   ]
  },
  {
   "cell_type": "code",
   "execution_count": null,
   "metadata": {},
   "outputs": [],
   "source": [
    "temp_2 = (-(dato_b)) - (aux_2)\n",
    "print(\"el valor de temp_2 es: \" + str(temp_2))"
   ]
  },
  {
   "attachments": {},
   "cell_type": "markdown",
   "metadata": {},
   "source": [
    "# Valor de X1 y X2\n",
    "\n",
    "En el siguiente paso calcularemos el valor final de las variables \"x1\" y \"x2\", las calculamos a partir de (x1 = temp_1 / (2*a)) y (x2 = temp_2 / (2*a)) respectivamente, estas las usaremos en el cierre del programa.  "
   ]
  },
  {
   "cell_type": "code",
   "execution_count": null,
   "metadata": {},
   "outputs": [
    {
     "name": "stdout",
     "output_type": "stream",
     "text": [
      "-1.0\n",
      "-3.0\n"
     ]
    }
   ],
   "source": [
    "x1 = temp_1 / (2* (dato_a))\n",
    "x2 = temp_2 / (2* (dato_a))\n",
    "\n",
    "print(x1)\n",
    "print(x2)"
   ]
  },
  {
   "attachments": {},
   "cell_type": "markdown",
   "metadata": {},
   "source": [
    "# Programa completo\n",
    "\n",
    "Ya habiendo realizado todos los pasos anteriores podremos realizar nuestro código completo. pero antes debemos diagramarlo de la siguiente manera para que funcione correctamente. \n",
    "\n",
    "Para probar todos los escenarios que hemos programado podemos usar los siguientes valores:\n",
    "\n",
    "- Para que la ecuación no tenga raíces reales: 1 1 1 1 1\n",
    "    - a = 1\n",
    "    - b = 1\n",
    "    - c = 1\n",
    "- Para que la ecuación tenga una raíz real(x1): 4 8 5 6 4\n",
    "    - a = 4\n",
    "    - b = 8\n",
    "    - c = 4\n",
    "- Para encontrar los valores de x1 y x2: 2 4 5 5 6 \n",
    "    - a = 2\n",
    "    - b = 6\n",
    "    - c = 4"
   ]
  },
  {
   "cell_type": "code",
   "execution_count": 1,
   "metadata": {},
   "outputs": [
    {
     "name": "stdout",
     "output_type": "stream",
     "text": [
      "Calculadora de ecuaciones cuadráticas de segundo grado\n",
      "['El valor de A es' '4' 'El valor de B es' '8' 'El valor de C es' '4']\n",
      "el valor de aux es: 0\n",
      "el valor de aux_2 es: 0.0\n",
      "el valor de temp_1 es: -8.0\n",
      "el valor de temp_2 es: -8.0\n",
      "La ecuación tiene una raíz real, x1= -1.0\n"
     ]
    }
   ],
   "source": [
    "import math\n",
    "import numpy as np\n",
    "\n",
    "print(\"Calculadora de ecuaciones cuadráticas de segundo grado\")\n",
    "\n",
    "valores = np.array(input(\"Ingrese al menos 5 valores enteros (excepto 0) separados por espacios: \").split(), dtype=int)\n",
    "valores.sort()\n",
    "a = valores[0]\n",
    "b = valores[4]\n",
    "c = valores[1]\n",
    "\n",
    "if a == 0:\n",
    "    print(\"El numero de menor valor no puede ser 0, por favor inicie de nuevo el programa y no ingrese el valor 0 entre los valores\")\n",
    "    exit()\n",
    "else:\n",
    "    dato_a = (a)\n",
    "    dato_b = (b)\n",
    "    dato_c = (c)\n",
    "\n",
    "    datos = np.array([\"El valor de A es\", dato_a, \"El valor de B es\", dato_b, \"El valor de C es\", dato_c])\n",
    "    print(datos)\n",
    "\n",
    "    aux = ((dato_b**2) - (4*dato_a*dato_c))\n",
    "    print(\"el valor de aux es: \" + str(aux))\n",
    "\n",
    "    if aux < 0: \n",
    "        print(\"La ecuación no tiene raíces reales.\")\n",
    "        exit()\n",
    "    else:\n",
    "        aux_2 = (math.sqrt(aux))\n",
    "        print(\"el valor de aux_2 es: \" + str(aux_2))\n",
    "\n",
    "        temp_1 = (-(dato_b)) + (aux_2)\n",
    "        print(\"el valor de temp_1 es: \" + str(temp_1))\n",
    "\n",
    "        temp_2 = (-(dato_b)) - (aux_2)\n",
    "        print(\"el valor de temp_2 es: \" + str(temp_2))\n",
    "\n",
    "        x1 = temp_1 / (2* (dato_a))\n",
    "        x2 = temp_2 / (2* (dato_a))\n",
    "\n",
    "        if aux == 0:\n",
    "         print(\"La ecuación tiene una raíz real, x1=\", x1)\n",
    "        else:\n",
    "         print(\"Las raíces de la ecuación son x1=\", x1, \"y x2=\", x2)"
   ]
  }
 ],
 "metadata": {
  "kernelspec": {
   "display_name": "Python 3 (ipykernel)",
   "language": "python",
   "name": "python3"
  },
  "language_info": {
   "codemirror_mode": {
    "name": "ipython",
    "version": 3
   },
   "file_extension": ".py",
   "mimetype": "text/x-python",
   "name": "python",
   "nbconvert_exporter": "python",
   "pygments_lexer": "ipython3",
   "version": "3.10.9"
  },
  "orig_nbformat": 4
 },
 "nbformat": 4,
 "nbformat_minor": 2
}
